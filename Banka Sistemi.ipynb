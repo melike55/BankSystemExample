{
 "cells": [
  {
   "cell_type": "code",
   "execution_count": 4,
   "id": "de0d185e",
   "metadata": {},
   "outputs": [
    {
     "name": "stdout",
     "output_type": "stream",
     "text": [
      "Melike'nin Bankasına Hoşgeldiniz\n"
     ]
    },
    {
     "name": "stdin",
     "output_type": "stream",
     "text": [
      "Kart Şifrenizi Giriniz:  1923\n"
     ]
    },
    {
     "name": "stdout",
     "output_type": "stream",
     "text": [
      "Giriş yapıldı.\n",
      "\"\n",
      "        Yapılacak İşlemi Seçiniz\n",
      "        ------------------------\n",
      "        1- Para Çekme\n",
      "        2- Para Yatırma\n",
      "        3- Bakiye Sorgulama\n",
      "        4- Çıkış\n",
      "        ------------------------\n",
      "        \n",
      "-------------------------\n"
     ]
    },
    {
     "name": "stdin",
     "output_type": "stream",
     "text": [
      "İşlem Numarasını Giriniz:  3\n"
     ]
    },
    {
     "name": "stdout",
     "output_type": "stream",
     "text": [
      "Toplam Bakiye: 1000 ₺\n",
      "-------------------------\n"
     ]
    },
    {
     "name": "stdin",
     "output_type": "stream",
     "text": [
      "İşlem Numarasını Giriniz:  1\n",
      "Çekilecek Miktar:  500\n"
     ]
    },
    {
     "name": "stdout",
     "output_type": "stream",
     "text": [
      "İşlem Gerçekleşti\n",
      "-------------------------\n"
     ]
    },
    {
     "name": "stdin",
     "output_type": "stream",
     "text": [
      "İşlem Numarasını Giriniz:  3\n"
     ]
    },
    {
     "name": "stdout",
     "output_type": "stream",
     "text": [
      "Toplam Bakiye: 500 ₺\n",
      "-------------------------\n"
     ]
    },
    {
     "name": "stdin",
     "output_type": "stream",
     "text": [
      "İşlem Numarasını Giriniz:  2\n",
      "Yatırılacak Miktar:  200\n"
     ]
    },
    {
     "name": "stdout",
     "output_type": "stream",
     "text": [
      "İşlem Gerçekleşti\n",
      "-------------------------\n"
     ]
    },
    {
     "name": "stdin",
     "output_type": "stream",
     "text": [
      "İşlem Numarasını Giriniz:  3\n"
     ]
    },
    {
     "name": "stdout",
     "output_type": "stream",
     "text": [
      "Toplam Bakiye: 700 ₺\n",
      "-------------------------\n"
     ]
    },
    {
     "name": "stdin",
     "output_type": "stream",
     "text": [
      "İşlem Numarasını Giriniz:  4\n"
     ]
    },
    {
     "name": "stdout",
     "output_type": "stream",
     "text": [
      "Çıkış Yapıldı\n"
     ]
    }
   ],
   "source": [
    "#sürekli bizden kart şifresi istememeli \n",
    "#kart şifresi girme hakkı olmalı yoksa şifreyi bulana kadar giriş yapmaya çalışır\n",
    "kartSifresi=\"1923\"\n",
    "bakiye=1000\n",
    "denemeHakki=3\n",
    "kart_islem_durumu=True\n",
    "print(\"Melike'nin Bankasına Hoşgeldiniz\")\n",
    "\n",
    "#while döngüsü true olduğunda çalışır fajat false old çalışmaz\n",
    "islemDurumu=True\n",
    "#başlangıçta islemDurumu nu false olarak ayarlarsan while a girmez ve input u yazdırmaz\n",
    "\n",
    "while islemDurumu:#input bize metinsel değer döndürür sayısal döndürmesini istiyorsan int(input()) olması lazım\n",
    "#biziö kart şifremiz tırnak içinde old için metinsel old için int yazmaya gerek yok direk input yazarız\n",
    "    girilenSifre=input(\"Kart Şifrenizi Giriniz: \")\n",
    "    if girilenSifre!=kartSifresi:\n",
    "        print(\"Yanlış Şifre.Tekrar Deneyiniz!\")\n",
    "        denemeHakki -=1\n",
    "        print(denemeHakki,\"deneme hakkınız kaldı\")\n",
    "        if denemeHakki==0:\n",
    "            print(\"Kartınız bloklandı.Lütfen banka ile görüşün.\")\n",
    "            islemDurumu=False #eğer islem durumunu false yapmazsam sonsuz döngü oluşur devamlı kart şifresini ister\n",
    "    else:\n",
    "        print(\"Giriş yapıldı.\")\n",
    "        print(\"\"\"\"\n",
    "        Yapılacak İşlemi Seçiniz\n",
    "        ------------------------\n",
    "        1- Para Çekme\n",
    "        2- Para Yatırma\n",
    "        3- Bakiye Sorgulama\n",
    "        4- Çıkış\n",
    "        ------------------------\n",
    "        \"\"\")\n",
    "        while kart_islem_durumu:\n",
    "            print(\"-------------------------\")\n",
    "            islemNo=input(\"İşlem Numarasını Giriniz: \")\n",
    "            if islemNo == \"4\":\n",
    "                print(\"Çıkış Yapıldı\")\n",
    "                islemDurumu=False\n",
    "                kart_islem_durumu=False\n",
    "            elif islemNo == \"3\":\n",
    "                print(\"Toplam Bakiye:\",bakiye,\"₺\")#altGr + t ye bastığımızda tl ifadesini yapmış oluruz\n",
    "                # 3 e bastıktan sonra tekrar bir işlem seçmemizi istiyor bunu yapmasını istemiyorum\n",
    "                #bu yüzden yapılacak işlem seçme listesini while döngüsünü dışına aldım\n",
    "            elif islemNo == \"2\":\n",
    "                yatirilacakMiktar=int(input(\"Yatırılacak Miktar: \"))\n",
    "                bakiye += yatirilacakMiktar\n",
    "                print(\"İşlem Gerçekleşti\")\n",
    "            elif islemNo == \"1\":\n",
    "                cekilecekMiktar=int(input(\"Çekilecek Miktar: \"))\n",
    "                if(cekilecekMiktar > bakiye):\n",
    "                    print(\"İşlem Gerçekleştirilemiyor.Bakiyenizde yeterli miktar yok\")\n",
    "                else:\n",
    "                    bakiye -= cekilecekMiktar\n",
    "                    print(\"İşlem Gerçekleşti\")"
   ]
  },
  {
   "cell_type": "code",
   "execution_count": null,
   "id": "b97751be",
   "metadata": {},
   "outputs": [],
   "source": []
  },
  {
   "cell_type": "code",
   "execution_count": null,
   "id": "be4507fd",
   "metadata": {},
   "outputs": [],
   "source": []
  },
  {
   "cell_type": "code",
   "execution_count": null,
   "id": "611c1554",
   "metadata": {},
   "outputs": [],
   "source": []
  }
 ],
 "metadata": {
  "kernelspec": {
   "display_name": "Python 3 (ipykernel)",
   "language": "python",
   "name": "python3"
  },
  "language_info": {
   "codemirror_mode": {
    "name": "ipython",
    "version": 3
   },
   "file_extension": ".py",
   "mimetype": "text/x-python",
   "name": "python",
   "nbconvert_exporter": "python",
   "pygments_lexer": "ipython3",
   "version": "3.12.4"
  }
 },
 "nbformat": 4,
 "nbformat_minor": 5
}
